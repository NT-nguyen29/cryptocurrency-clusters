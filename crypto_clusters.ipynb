{
 "cells": [
  {
   "cell_type": "code",
   "execution_count": 1,
   "id": "072b1d3f",
   "metadata": {},
   "outputs": [],
   "source": [
    "# import dependencies\n",
    "import pandas as pd\n",
    "import matplotlib.pyplot as plt\n",
    "from sklearn.preprocessing import StandardScaler\n",
    "from sklearn.manifold import TSNE\n",
    "from sklearn.decomposition import PCA\n",
    "from sklearn.cluster import KMeans"
   ]
  },
  {
   "cell_type": "code",
   "execution_count": 2,
   "id": "2f6c56f4",
   "metadata": {},
   "outputs": [
    {
     "name": "stdout",
     "output_type": "stream",
     "text": [
      "1252\n"
     ]
    },
    {
     "data": {
      "text/html": [
       "<div>\n",
       "<style scoped>\n",
       "    .dataframe tbody tr th:only-of-type {\n",
       "        vertical-align: middle;\n",
       "    }\n",
       "\n",
       "    .dataframe tbody tr th {\n",
       "        vertical-align: top;\n",
       "    }\n",
       "\n",
       "    .dataframe thead th {\n",
       "        text-align: right;\n",
       "    }\n",
       "</style>\n",
       "<table border=\"1\" class=\"dataframe\">\n",
       "  <thead>\n",
       "    <tr style=\"text-align: right;\">\n",
       "      <th></th>\n",
       "      <th>Unnamed: 0</th>\n",
       "      <th>CoinName</th>\n",
       "      <th>Algorithm</th>\n",
       "      <th>IsTrading</th>\n",
       "      <th>ProofType</th>\n",
       "      <th>TotalCoinsMined</th>\n",
       "      <th>TotalCoinSupply</th>\n",
       "    </tr>\n",
       "  </thead>\n",
       "  <tbody>\n",
       "    <tr>\n",
       "      <th>0</th>\n",
       "      <td>42</td>\n",
       "      <td>42 Coin</td>\n",
       "      <td>Scrypt</td>\n",
       "      <td>True</td>\n",
       "      <td>PoW/PoS</td>\n",
       "      <td>4.199995e+01</td>\n",
       "      <td>42</td>\n",
       "    </tr>\n",
       "    <tr>\n",
       "      <th>1</th>\n",
       "      <td>365</td>\n",
       "      <td>365Coin</td>\n",
       "      <td>X11</td>\n",
       "      <td>True</td>\n",
       "      <td>PoW/PoS</td>\n",
       "      <td>NaN</td>\n",
       "      <td>2300000000</td>\n",
       "    </tr>\n",
       "    <tr>\n",
       "      <th>2</th>\n",
       "      <td>404</td>\n",
       "      <td>404Coin</td>\n",
       "      <td>Scrypt</td>\n",
       "      <td>True</td>\n",
       "      <td>PoW/PoS</td>\n",
       "      <td>1.055185e+09</td>\n",
       "      <td>532000000</td>\n",
       "    </tr>\n",
       "    <tr>\n",
       "      <th>3</th>\n",
       "      <td>611</td>\n",
       "      <td>SixEleven</td>\n",
       "      <td>SHA-256</td>\n",
       "      <td>True</td>\n",
       "      <td>PoW</td>\n",
       "      <td>NaN</td>\n",
       "      <td>611000</td>\n",
       "    </tr>\n",
       "    <tr>\n",
       "      <th>4</th>\n",
       "      <td>808</td>\n",
       "      <td>808</td>\n",
       "      <td>SHA-256</td>\n",
       "      <td>True</td>\n",
       "      <td>PoW/PoS</td>\n",
       "      <td>0.000000e+00</td>\n",
       "      <td>0</td>\n",
       "    </tr>\n",
       "  </tbody>\n",
       "</table>\n",
       "</div>"
      ],
      "text/plain": [
       "  Unnamed: 0   CoinName Algorithm  IsTrading ProofType  TotalCoinsMined  \\\n",
       "0         42    42 Coin    Scrypt       True   PoW/PoS     4.199995e+01   \n",
       "1        365    365Coin       X11       True   PoW/PoS              NaN   \n",
       "2        404    404Coin    Scrypt       True   PoW/PoS     1.055185e+09   \n",
       "3        611  SixEleven   SHA-256       True       PoW              NaN   \n",
       "4        808        808   SHA-256       True   PoW/PoS     0.000000e+00   \n",
       "\n",
       "  TotalCoinSupply  \n",
       "0              42  \n",
       "1      2300000000  \n",
       "2       532000000  \n",
       "3          611000  \n",
       "4               0  "
      ]
     },
     "execution_count": 2,
     "metadata": {},
     "output_type": "execute_result"
    }
   ],
   "source": [
    "# load csv\n",
    "csv_file = 'Resources/crypto_data.csv'\n",
    "crypto_df = pd.read_csv(csv_file)\n",
    "\n",
    "print(len(crypto_df))\n",
    "crypto_df.head()"
   ]
  },
  {
   "cell_type": "markdown",
   "id": "06d37f46",
   "metadata": {},
   "source": [
    "## Data Preparation"
   ]
  },
  {
   "cell_type": "code",
   "execution_count": 3,
   "id": "11f3b2d0",
   "metadata": {},
   "outputs": [
    {
     "name": "stdout",
     "output_type": "stream",
     "text": [
      "1144\n"
     ]
    },
    {
     "data": {
      "text/html": [
       "<div>\n",
       "<style scoped>\n",
       "    .dataframe tbody tr th:only-of-type {\n",
       "        vertical-align: middle;\n",
       "    }\n",
       "\n",
       "    .dataframe tbody tr th {\n",
       "        vertical-align: top;\n",
       "    }\n",
       "\n",
       "    .dataframe thead th {\n",
       "        text-align: right;\n",
       "    }\n",
       "</style>\n",
       "<table border=\"1\" class=\"dataframe\">\n",
       "  <thead>\n",
       "    <tr style=\"text-align: right;\">\n",
       "      <th></th>\n",
       "      <th>Unnamed: 0</th>\n",
       "      <th>CoinName</th>\n",
       "      <th>Algorithm</th>\n",
       "      <th>IsTrading</th>\n",
       "      <th>ProofType</th>\n",
       "      <th>TotalCoinsMined</th>\n",
       "      <th>TotalCoinSupply</th>\n",
       "    </tr>\n",
       "  </thead>\n",
       "  <tbody>\n",
       "    <tr>\n",
       "      <th>0</th>\n",
       "      <td>42</td>\n",
       "      <td>42 Coin</td>\n",
       "      <td>Scrypt</td>\n",
       "      <td>True</td>\n",
       "      <td>PoW/PoS</td>\n",
       "      <td>4.199995e+01</td>\n",
       "      <td>42</td>\n",
       "    </tr>\n",
       "    <tr>\n",
       "      <th>1</th>\n",
       "      <td>365</td>\n",
       "      <td>365Coin</td>\n",
       "      <td>X11</td>\n",
       "      <td>True</td>\n",
       "      <td>PoW/PoS</td>\n",
       "      <td>NaN</td>\n",
       "      <td>2300000000</td>\n",
       "    </tr>\n",
       "    <tr>\n",
       "      <th>2</th>\n",
       "      <td>404</td>\n",
       "      <td>404Coin</td>\n",
       "      <td>Scrypt</td>\n",
       "      <td>True</td>\n",
       "      <td>PoW/PoS</td>\n",
       "      <td>1.055185e+09</td>\n",
       "      <td>532000000</td>\n",
       "    </tr>\n",
       "    <tr>\n",
       "      <th>3</th>\n",
       "      <td>611</td>\n",
       "      <td>SixEleven</td>\n",
       "      <td>SHA-256</td>\n",
       "      <td>True</td>\n",
       "      <td>PoW</td>\n",
       "      <td>NaN</td>\n",
       "      <td>611000</td>\n",
       "    </tr>\n",
       "    <tr>\n",
       "      <th>4</th>\n",
       "      <td>808</td>\n",
       "      <td>808</td>\n",
       "      <td>SHA-256</td>\n",
       "      <td>True</td>\n",
       "      <td>PoW/PoS</td>\n",
       "      <td>0.000000e+00</td>\n",
       "      <td>0</td>\n",
       "    </tr>\n",
       "  </tbody>\n",
       "</table>\n",
       "</div>"
      ],
      "text/plain": [
       "  Unnamed: 0   CoinName Algorithm  IsTrading ProofType  TotalCoinsMined  \\\n",
       "0         42    42 Coin    Scrypt       True   PoW/PoS     4.199995e+01   \n",
       "1        365    365Coin       X11       True   PoW/PoS              NaN   \n",
       "2        404    404Coin    Scrypt       True   PoW/PoS     1.055185e+09   \n",
       "3        611  SixEleven   SHA-256       True       PoW              NaN   \n",
       "4        808        808   SHA-256       True   PoW/PoS     0.000000e+00   \n",
       "\n",
       "  TotalCoinSupply  \n",
       "0              42  \n",
       "1      2300000000  \n",
       "2       532000000  \n",
       "3          611000  \n",
       "4               0  "
      ]
     },
     "execution_count": 3,
     "metadata": {},
     "output_type": "execute_result"
    }
   ],
   "source": [
    "# filter for currencies currently being traded (\"IsTrading\" == True)\n",
    "crypto_df = crypto_df[crypto_df[\"IsTrading\"] == True]\n",
    "\n",
    "print(len(crypto_df))\n",
    "crypto_df.head()"
   ]
  },
  {
   "cell_type": "code",
   "execution_count": 4,
   "id": "2f8aa07c",
   "metadata": {},
   "outputs": [
    {
     "data": {
      "text/html": [
       "<div>\n",
       "<style scoped>\n",
       "    .dataframe tbody tr th:only-of-type {\n",
       "        vertical-align: middle;\n",
       "    }\n",
       "\n",
       "    .dataframe tbody tr th {\n",
       "        vertical-align: top;\n",
       "    }\n",
       "\n",
       "    .dataframe thead th {\n",
       "        text-align: right;\n",
       "    }\n",
       "</style>\n",
       "<table border=\"1\" class=\"dataframe\">\n",
       "  <thead>\n",
       "    <tr style=\"text-align: right;\">\n",
       "      <th></th>\n",
       "      <th>Unnamed: 0</th>\n",
       "      <th>CoinName</th>\n",
       "      <th>Algorithm</th>\n",
       "      <th>ProofType</th>\n",
       "      <th>TotalCoinsMined</th>\n",
       "      <th>TotalCoinSupply</th>\n",
       "    </tr>\n",
       "  </thead>\n",
       "  <tbody>\n",
       "    <tr>\n",
       "      <th>0</th>\n",
       "      <td>42</td>\n",
       "      <td>42 Coin</td>\n",
       "      <td>Scrypt</td>\n",
       "      <td>PoW/PoS</td>\n",
       "      <td>4.199995e+01</td>\n",
       "      <td>42</td>\n",
       "    </tr>\n",
       "    <tr>\n",
       "      <th>1</th>\n",
       "      <td>365</td>\n",
       "      <td>365Coin</td>\n",
       "      <td>X11</td>\n",
       "      <td>PoW/PoS</td>\n",
       "      <td>NaN</td>\n",
       "      <td>2300000000</td>\n",
       "    </tr>\n",
       "    <tr>\n",
       "      <th>2</th>\n",
       "      <td>404</td>\n",
       "      <td>404Coin</td>\n",
       "      <td>Scrypt</td>\n",
       "      <td>PoW/PoS</td>\n",
       "      <td>1.055185e+09</td>\n",
       "      <td>532000000</td>\n",
       "    </tr>\n",
       "    <tr>\n",
       "      <th>3</th>\n",
       "      <td>611</td>\n",
       "      <td>SixEleven</td>\n",
       "      <td>SHA-256</td>\n",
       "      <td>PoW</td>\n",
       "      <td>NaN</td>\n",
       "      <td>611000</td>\n",
       "    </tr>\n",
       "    <tr>\n",
       "      <th>4</th>\n",
       "      <td>808</td>\n",
       "      <td>808</td>\n",
       "      <td>SHA-256</td>\n",
       "      <td>PoW/PoS</td>\n",
       "      <td>0.000000e+00</td>\n",
       "      <td>0</td>\n",
       "    </tr>\n",
       "  </tbody>\n",
       "</table>\n",
       "</div>"
      ],
      "text/plain": [
       "  Unnamed: 0   CoinName Algorithm ProofType  TotalCoinsMined TotalCoinSupply\n",
       "0         42    42 Coin    Scrypt   PoW/PoS     4.199995e+01              42\n",
       "1        365    365Coin       X11   PoW/PoS              NaN      2300000000\n",
       "2        404    404Coin    Scrypt   PoW/PoS     1.055185e+09       532000000\n",
       "3        611  SixEleven   SHA-256       PoW              NaN          611000\n",
       "4        808        808   SHA-256   PoW/PoS     0.000000e+00               0"
      ]
     },
     "execution_count": 4,
     "metadata": {},
     "output_type": "execute_result"
    }
   ],
   "source": [
    "# once we've done this, drop \"IsTrading\" column\n",
    "crypto_df = crypto_df.drop(columns=\"IsTrading\")\n",
    "crypto_df.head()"
   ]
  },
  {
   "cell_type": "code",
   "execution_count": 5,
   "id": "51d66b0e",
   "metadata": {},
   "outputs": [
    {
     "data": {
      "text/plain": [
       "Unnamed: 0         0\n",
       "CoinName           0\n",
       "Algorithm          0\n",
       "ProofType          0\n",
       "TotalCoinsMined    0\n",
       "TotalCoinSupply    0\n",
       "dtype: int64"
      ]
     },
     "execution_count": 5,
     "metadata": {},
     "output_type": "execute_result"
    }
   ],
   "source": [
    "# remove all rows with at least one null value\n",
    "crypto_df = crypto_df.dropna()\n",
    "\n",
    "# double check for nulls\n",
    "crypto_df.isnull().sum()"
   ]
  },
  {
   "cell_type": "code",
   "execution_count": 6,
   "id": "fb659f85",
   "metadata": {},
   "outputs": [
    {
     "data": {
      "text/plain": [
       "Unnamed: 0          object\n",
       "CoinName            object\n",
       "Algorithm           object\n",
       "ProofType           object\n",
       "TotalCoinsMined    float64\n",
       "TotalCoinSupply     object\n",
       "dtype: object"
      ]
     },
     "execution_count": 6,
     "metadata": {},
     "output_type": "execute_result"
    }
   ],
   "source": [
    "# check dtypes and adjust accordingly\n",
    "crypto_df.dtypes"
   ]
  },
  {
   "cell_type": "code",
   "execution_count": 7,
   "id": "84134169",
   "metadata": {},
   "outputs": [
    {
     "data": {
      "text/plain": [
       "Unnamed: 0          object\n",
       "CoinName            object\n",
       "Algorithm           object\n",
       "ProofType           object\n",
       "TotalCoinsMined    float64\n",
       "TotalCoinSupply    float64\n",
       "dtype: object"
      ]
     },
     "execution_count": 7,
     "metadata": {},
     "output_type": "execute_result"
    }
   ],
   "source": [
    "crypto_df[\"TotalCoinSupply\"] = crypto_df[\"TotalCoinSupply\"].astype('float')\n",
    "crypto_df.dtypes"
   ]
  },
  {
   "cell_type": "code",
   "execution_count": 8,
   "id": "1c506945",
   "metadata": {},
   "outputs": [
    {
     "name": "stdout",
     "output_type": "stream",
     "text": [
      "637\n"
     ]
    },
    {
     "data": {
      "text/html": [
       "<div>\n",
       "<style scoped>\n",
       "    .dataframe tbody tr th:only-of-type {\n",
       "        vertical-align: middle;\n",
       "    }\n",
       "\n",
       "    .dataframe tbody tr th {\n",
       "        vertical-align: top;\n",
       "    }\n",
       "\n",
       "    .dataframe thead th {\n",
       "        text-align: right;\n",
       "    }\n",
       "</style>\n",
       "<table border=\"1\" class=\"dataframe\">\n",
       "  <thead>\n",
       "    <tr style=\"text-align: right;\">\n",
       "      <th></th>\n",
       "      <th>Unnamed: 0</th>\n",
       "      <th>CoinName</th>\n",
       "      <th>Algorithm</th>\n",
       "      <th>ProofType</th>\n",
       "      <th>TotalCoinsMined</th>\n",
       "      <th>TotalCoinSupply</th>\n",
       "    </tr>\n",
       "  </thead>\n",
       "  <tbody>\n",
       "    <tr>\n",
       "      <th>0</th>\n",
       "      <td>42</td>\n",
       "      <td>42 Coin</td>\n",
       "      <td>Scrypt</td>\n",
       "      <td>PoW/PoS</td>\n",
       "      <td>4.199995e+01</td>\n",
       "      <td>4.200000e+01</td>\n",
       "    </tr>\n",
       "    <tr>\n",
       "      <th>2</th>\n",
       "      <td>404</td>\n",
       "      <td>404Coin</td>\n",
       "      <td>Scrypt</td>\n",
       "      <td>PoW/PoS</td>\n",
       "      <td>1.055185e+09</td>\n",
       "      <td>5.320000e+08</td>\n",
       "    </tr>\n",
       "    <tr>\n",
       "      <th>5</th>\n",
       "      <td>1337</td>\n",
       "      <td>EliteCoin</td>\n",
       "      <td>X13</td>\n",
       "      <td>PoW/PoS</td>\n",
       "      <td>2.927942e+10</td>\n",
       "      <td>3.141593e+11</td>\n",
       "    </tr>\n",
       "    <tr>\n",
       "      <th>7</th>\n",
       "      <td>BTC</td>\n",
       "      <td>Bitcoin</td>\n",
       "      <td>SHA-256</td>\n",
       "      <td>PoW</td>\n",
       "      <td>1.792718e+07</td>\n",
       "      <td>2.100000e+07</td>\n",
       "    </tr>\n",
       "    <tr>\n",
       "      <th>9</th>\n",
       "      <td>LTC</td>\n",
       "      <td>Litecoin</td>\n",
       "      <td>Scrypt</td>\n",
       "      <td>PoW</td>\n",
       "      <td>6.303924e+07</td>\n",
       "      <td>8.400000e+07</td>\n",
       "    </tr>\n",
       "  </tbody>\n",
       "</table>\n",
       "</div>"
      ],
      "text/plain": [
       "  Unnamed: 0   CoinName Algorithm ProofType  TotalCoinsMined  TotalCoinSupply\n",
       "0         42    42 Coin    Scrypt   PoW/PoS     4.199995e+01     4.200000e+01\n",
       "2        404    404Coin    Scrypt   PoW/PoS     1.055185e+09     5.320000e+08\n",
       "5       1337  EliteCoin       X13   PoW/PoS     2.927942e+10     3.141593e+11\n",
       "7        BTC    Bitcoin   SHA-256       PoW     1.792718e+07     2.100000e+07\n",
       "9        LTC   Litecoin    Scrypt       PoW     6.303924e+07     8.400000e+07"
      ]
     },
     "execution_count": 8,
     "metadata": {},
     "output_type": "execute_result"
    }
   ],
   "source": [
    "# filter for cryptocurrencies that have been mined (\"TotalCoinSupply\" > 0)\n",
    "crypto_df = crypto_df[crypto_df[\"TotalCoinSupply\"]> 0]\n",
    "\n",
    "print(len(crypto_df))\n",
    "crypto_df.head()"
   ]
  },
  {
   "cell_type": "code",
   "execution_count": 10,
   "id": "8e320b4d",
   "metadata": {},
   "outputs": [
    {
     "data": {
      "text/plain": [
       "637"
      ]
     },
     "execution_count": 10,
     "metadata": {},
     "output_type": "execute_result"
    }
   ],
   "source": [
    "# store \"CoinName\" as 'labels' to help visualize t-SNE\n",
    "labels = pd.DataFrame(crypto_df[\"CoinName\"]).reset_index(drop=True)\n",
    "len(labels)"
   ]
  },
  {
   "cell_type": "code",
   "execution_count": 11,
   "id": "ff5cc537",
   "metadata": {},
   "outputs": [
    {
     "name": "stdout",
     "output_type": "stream",
     "text": [
      "(637, 4)\n"
     ]
    },
    {
     "data": {
      "text/html": [
       "<div>\n",
       "<style scoped>\n",
       "    .dataframe tbody tr th:only-of-type {\n",
       "        vertical-align: middle;\n",
       "    }\n",
       "\n",
       "    .dataframe tbody tr th {\n",
       "        vertical-align: top;\n",
       "    }\n",
       "\n",
       "    .dataframe thead th {\n",
       "        text-align: right;\n",
       "    }\n",
       "</style>\n",
       "<table border=\"1\" class=\"dataframe\">\n",
       "  <thead>\n",
       "    <tr style=\"text-align: right;\">\n",
       "      <th></th>\n",
       "      <th>Algorithm</th>\n",
       "      <th>ProofType</th>\n",
       "      <th>TotalCoinsMined</th>\n",
       "      <th>TotalCoinSupply</th>\n",
       "    </tr>\n",
       "  </thead>\n",
       "  <tbody>\n",
       "    <tr>\n",
       "      <th>0</th>\n",
       "      <td>Scrypt</td>\n",
       "      <td>PoW/PoS</td>\n",
       "      <td>4.199995e+01</td>\n",
       "      <td>4.200000e+01</td>\n",
       "    </tr>\n",
       "    <tr>\n",
       "      <th>2</th>\n",
       "      <td>Scrypt</td>\n",
       "      <td>PoW/PoS</td>\n",
       "      <td>1.055185e+09</td>\n",
       "      <td>5.320000e+08</td>\n",
       "    </tr>\n",
       "    <tr>\n",
       "      <th>5</th>\n",
       "      <td>X13</td>\n",
       "      <td>PoW/PoS</td>\n",
       "      <td>2.927942e+10</td>\n",
       "      <td>3.141593e+11</td>\n",
       "    </tr>\n",
       "    <tr>\n",
       "      <th>7</th>\n",
       "      <td>SHA-256</td>\n",
       "      <td>PoW</td>\n",
       "      <td>1.792718e+07</td>\n",
       "      <td>2.100000e+07</td>\n",
       "    </tr>\n",
       "    <tr>\n",
       "      <th>9</th>\n",
       "      <td>Scrypt</td>\n",
       "      <td>PoW</td>\n",
       "      <td>6.303924e+07</td>\n",
       "      <td>8.400000e+07</td>\n",
       "    </tr>\n",
       "  </tbody>\n",
       "</table>\n",
       "</div>"
      ],
      "text/plain": [
       "  Algorithm ProofType  TotalCoinsMined  TotalCoinSupply\n",
       "0    Scrypt   PoW/PoS     4.199995e+01     4.200000e+01\n",
       "2    Scrypt   PoW/PoS     1.055185e+09     5.320000e+08\n",
       "5       X13   PoW/PoS     2.927942e+10     3.141593e+11\n",
       "7   SHA-256       PoW     1.792718e+07     2.100000e+07\n",
       "9    Scrypt       PoW     6.303924e+07     8.400000e+07"
      ]
     },
     "execution_count": 11,
     "metadata": {},
     "output_type": "execute_result"
    }
   ],
   "source": [
    "# coin names don't contribute to data analysis - delete \"CoinName\" and \"Unnamed: 0\"\n",
    "crypto_df = crypto_df.drop(columns=[\"CoinName\", \"Unnamed: 0\"])\n",
    "\n",
    "print(crypto_df.shape)\n",
    "crypto_df.head()"
   ]
  },
  {
   "cell_type": "code",
   "execution_count": 12,
   "id": "907b674d",
   "metadata": {},
   "outputs": [
    {
     "name": "stdout",
     "output_type": "stream",
     "text": [
      "(637, 105)\n"
     ]
    },
    {
     "data": {
      "text/html": [
       "<div>\n",
       "<style scoped>\n",
       "    .dataframe tbody tr th:only-of-type {\n",
       "        vertical-align: middle;\n",
       "    }\n",
       "\n",
       "    .dataframe tbody tr th {\n",
       "        vertical-align: top;\n",
       "    }\n",
       "\n",
       "    .dataframe thead th {\n",
       "        text-align: right;\n",
       "    }\n",
       "</style>\n",
       "<table border=\"1\" class=\"dataframe\">\n",
       "  <thead>\n",
       "    <tr style=\"text-align: right;\">\n",
       "      <th></th>\n",
       "      <th>TotalCoinsMined</th>\n",
       "      <th>TotalCoinSupply</th>\n",
       "      <th>Algorithm_1GB AES Pattern Search</th>\n",
       "      <th>Algorithm_536</th>\n",
       "      <th>Algorithm_Argon2</th>\n",
       "      <th>Algorithm_BLAKE256</th>\n",
       "      <th>Algorithm_Blake</th>\n",
       "      <th>Algorithm_Blake2S</th>\n",
       "      <th>Algorithm_Blake2b</th>\n",
       "      <th>Algorithm_C11</th>\n",
       "      <th>...</th>\n",
       "      <th>ProofType_PoW/PoS</th>\n",
       "      <th>ProofType_PoW/PoS</th>\n",
       "      <th>ProofType_PoW/PoW</th>\n",
       "      <th>ProofType_PoW/nPoS</th>\n",
       "      <th>ProofType_Pos</th>\n",
       "      <th>ProofType_Proof of Authority</th>\n",
       "      <th>ProofType_Proof of Trust</th>\n",
       "      <th>ProofType_TPoS</th>\n",
       "      <th>ProofType_Zero-Knowledge Proof</th>\n",
       "      <th>ProofType_dPoW/PoW</th>\n",
       "    </tr>\n",
       "  </thead>\n",
       "  <tbody>\n",
       "    <tr>\n",
       "      <th>0</th>\n",
       "      <td>4.199995e+01</td>\n",
       "      <td>4.200000e+01</td>\n",
       "      <td>0</td>\n",
       "      <td>0</td>\n",
       "      <td>0</td>\n",
       "      <td>0</td>\n",
       "      <td>0</td>\n",
       "      <td>0</td>\n",
       "      <td>0</td>\n",
       "      <td>0</td>\n",
       "      <td>...</td>\n",
       "      <td>1</td>\n",
       "      <td>0</td>\n",
       "      <td>0</td>\n",
       "      <td>0</td>\n",
       "      <td>0</td>\n",
       "      <td>0</td>\n",
       "      <td>0</td>\n",
       "      <td>0</td>\n",
       "      <td>0</td>\n",
       "      <td>0</td>\n",
       "    </tr>\n",
       "    <tr>\n",
       "      <th>2</th>\n",
       "      <td>1.055185e+09</td>\n",
       "      <td>5.320000e+08</td>\n",
       "      <td>0</td>\n",
       "      <td>0</td>\n",
       "      <td>0</td>\n",
       "      <td>0</td>\n",
       "      <td>0</td>\n",
       "      <td>0</td>\n",
       "      <td>0</td>\n",
       "      <td>0</td>\n",
       "      <td>...</td>\n",
       "      <td>1</td>\n",
       "      <td>0</td>\n",
       "      <td>0</td>\n",
       "      <td>0</td>\n",
       "      <td>0</td>\n",
       "      <td>0</td>\n",
       "      <td>0</td>\n",
       "      <td>0</td>\n",
       "      <td>0</td>\n",
       "      <td>0</td>\n",
       "    </tr>\n",
       "    <tr>\n",
       "      <th>5</th>\n",
       "      <td>2.927942e+10</td>\n",
       "      <td>3.141593e+11</td>\n",
       "      <td>0</td>\n",
       "      <td>0</td>\n",
       "      <td>0</td>\n",
       "      <td>0</td>\n",
       "      <td>0</td>\n",
       "      <td>0</td>\n",
       "      <td>0</td>\n",
       "      <td>0</td>\n",
       "      <td>...</td>\n",
       "      <td>1</td>\n",
       "      <td>0</td>\n",
       "      <td>0</td>\n",
       "      <td>0</td>\n",
       "      <td>0</td>\n",
       "      <td>0</td>\n",
       "      <td>0</td>\n",
       "      <td>0</td>\n",
       "      <td>0</td>\n",
       "      <td>0</td>\n",
       "    </tr>\n",
       "    <tr>\n",
       "      <th>7</th>\n",
       "      <td>1.792718e+07</td>\n",
       "      <td>2.100000e+07</td>\n",
       "      <td>0</td>\n",
       "      <td>0</td>\n",
       "      <td>0</td>\n",
       "      <td>0</td>\n",
       "      <td>0</td>\n",
       "      <td>0</td>\n",
       "      <td>0</td>\n",
       "      <td>0</td>\n",
       "      <td>...</td>\n",
       "      <td>0</td>\n",
       "      <td>0</td>\n",
       "      <td>0</td>\n",
       "      <td>0</td>\n",
       "      <td>0</td>\n",
       "      <td>0</td>\n",
       "      <td>0</td>\n",
       "      <td>0</td>\n",
       "      <td>0</td>\n",
       "      <td>0</td>\n",
       "    </tr>\n",
       "    <tr>\n",
       "      <th>9</th>\n",
       "      <td>6.303924e+07</td>\n",
       "      <td>8.400000e+07</td>\n",
       "      <td>0</td>\n",
       "      <td>0</td>\n",
       "      <td>0</td>\n",
       "      <td>0</td>\n",
       "      <td>0</td>\n",
       "      <td>0</td>\n",
       "      <td>0</td>\n",
       "      <td>0</td>\n",
       "      <td>...</td>\n",
       "      <td>0</td>\n",
       "      <td>0</td>\n",
       "      <td>0</td>\n",
       "      <td>0</td>\n",
       "      <td>0</td>\n",
       "      <td>0</td>\n",
       "      <td>0</td>\n",
       "      <td>0</td>\n",
       "      <td>0</td>\n",
       "      <td>0</td>\n",
       "    </tr>\n",
       "  </tbody>\n",
       "</table>\n",
       "<p>5 rows × 105 columns</p>\n",
       "</div>"
      ],
      "text/plain": [
       "   TotalCoinsMined  TotalCoinSupply  Algorithm_1GB AES Pattern Search  \\\n",
       "0     4.199995e+01     4.200000e+01                                 0   \n",
       "2     1.055185e+09     5.320000e+08                                 0   \n",
       "5     2.927942e+10     3.141593e+11                                 0   \n",
       "7     1.792718e+07     2.100000e+07                                 0   \n",
       "9     6.303924e+07     8.400000e+07                                 0   \n",
       "\n",
       "   Algorithm_536  Algorithm_Argon2  Algorithm_BLAKE256  Algorithm_Blake  \\\n",
       "0              0                 0                   0                0   \n",
       "2              0                 0                   0                0   \n",
       "5              0                 0                   0                0   \n",
       "7              0                 0                   0                0   \n",
       "9              0                 0                   0                0   \n",
       "\n",
       "   Algorithm_Blake2S  Algorithm_Blake2b  Algorithm_C11  ...  \\\n",
       "0                  0                  0              0  ...   \n",
       "2                  0                  0              0  ...   \n",
       "5                  0                  0              0  ...   \n",
       "7                  0                  0              0  ...   \n",
       "9                  0                  0              0  ...   \n",
       "\n",
       "   ProofType_PoW/PoS  ProofType_PoW/PoS   ProofType_PoW/PoW  \\\n",
       "0                  1                   0                  0   \n",
       "2                  1                   0                  0   \n",
       "5                  1                   0                  0   \n",
       "7                  0                   0                  0   \n",
       "9                  0                   0                  0   \n",
       "\n",
       "   ProofType_PoW/nPoS  ProofType_Pos  ProofType_Proof of Authority  \\\n",
       "0                   0              0                             0   \n",
       "2                   0              0                             0   \n",
       "5                   0              0                             0   \n",
       "7                   0              0                             0   \n",
       "9                   0              0                             0   \n",
       "\n",
       "   ProofType_Proof of Trust  ProofType_TPoS  ProofType_Zero-Knowledge Proof  \\\n",
       "0                         0               0                               0   \n",
       "2                         0               0                               0   \n",
       "5                         0               0                               0   \n",
       "7                         0               0                               0   \n",
       "9                         0               0                               0   \n",
       "\n",
       "   ProofType_dPoW/PoW  \n",
       "0                   0  \n",
       "2                   0  \n",
       "5                   0  \n",
       "7                   0  \n",
       "9                   0  \n",
       "\n",
       "[5 rows x 105 columns]"
      ]
     },
     "execution_count": 12,
     "metadata": {},
     "output_type": "execute_result"
    }
   ],
   "source": [
    "# convert \"Algorithm\" and \"ProofType\" into numerical data by creating dummy variables\n",
    "crypto_dummies = pd.get_dummies(crypto_df, columns=[\"Algorithm\", \"ProofType\"])\n",
    "\n",
    "print(crypto_dummies.shape)\n",
    "crypto_dummies.head()"
   ]
  },
  {
   "cell_type": "code",
   "execution_count": 13,
   "id": "f9318e87",
   "metadata": {},
   "outputs": [],
   "source": [
    "# standardize data (columns with larger values won't unduly influence outcome)\n",
    "scaler = StandardScaler()\n",
    "crypto_scaled = scaler.fit_transform(crypto_dummies)"
   ]
  },
  {
   "cell_type": "markdown",
   "id": "ba276b10",
   "metadata": {},
   "source": [
    "## Dimensionality Reduction"
   ]
  },
  {
   "cell_type": "code",
   "execution_count": 14,
   "id": "b3375121",
   "metadata": {},
   "outputs": [
    {
     "data": {
      "text/plain": [
       "array([[-1.60261243e-01, -1.18288467e+00, -5.50082925e-01, ...,\n",
       "        -1.37251441e-12, -2.68963710e-11,  2.27657973e-12],\n",
       "       [-1.45855648e-01, -1.18092169e+00, -5.50502557e-01, ...,\n",
       "        -1.37221492e-12, -2.68957098e-11,  2.27672511e-12],\n",
       "       [ 4.06774086e-01, -1.93473203e+00, -6.22301988e-01, ...,\n",
       "        -7.58509846e-14, -2.80032836e-14,  2.05295105e-14],\n",
       "       ...,\n",
       "       [-2.01116114e-01,  2.21890263e+00,  3.76253693e-01, ...,\n",
       "         8.41508766e-15,  6.37175968e-14, -2.23705486e-14],\n",
       "       [-3.43673218e-01,  1.92341705e+00,  3.36220602e-01, ...,\n",
       "        -1.37124812e-12, -2.68975846e-11,  2.27580777e-12],\n",
       "       [-5.00068379e-02, -8.48397044e-01, -2.66629377e-01, ...,\n",
       "        -1.36867423e-12, -2.68984955e-11,  2.27915046e-12]])"
      ]
     },
     "execution_count": 14,
     "metadata": {},
     "output_type": "execute_result"
    }
   ],
   "source": [
    "# with PCA, preserve 90% of explained variance in dimensionality reduction\n",
    "pca = PCA(n_components=0.90)\n",
    "\n",
    "# get principal components\n",
    "crypto_pca = pca.fit_transform(crypto_scaled)\n",
    "crypto_pca"
   ]
  },
  {
   "cell_type": "code",
   "execution_count": 15,
   "id": "5d20a232",
   "metadata": {},
   "outputs": [
    {
     "data": {
      "text/html": [
       "<div>\n",
       "<style scoped>\n",
       "    .dataframe tbody tr th:only-of-type {\n",
       "        vertical-align: middle;\n",
       "    }\n",
       "\n",
       "    .dataframe tbody tr th {\n",
       "        vertical-align: top;\n",
       "    }\n",
       "\n",
       "    .dataframe thead th {\n",
       "        text-align: right;\n",
       "    }\n",
       "</style>\n",
       "<table border=\"1\" class=\"dataframe\">\n",
       "  <thead>\n",
       "    <tr style=\"text-align: right;\">\n",
       "      <th></th>\n",
       "      <th>0</th>\n",
       "      <th>1</th>\n",
       "      <th>2</th>\n",
       "      <th>3</th>\n",
       "      <th>4</th>\n",
       "      <th>5</th>\n",
       "      <th>6</th>\n",
       "      <th>7</th>\n",
       "      <th>8</th>\n",
       "      <th>9</th>\n",
       "      <th>...</th>\n",
       "      <th>70</th>\n",
       "      <th>71</th>\n",
       "      <th>72</th>\n",
       "      <th>73</th>\n",
       "      <th>74</th>\n",
       "      <th>75</th>\n",
       "      <th>76</th>\n",
       "      <th>77</th>\n",
       "      <th>78</th>\n",
       "      <th>79</th>\n",
       "    </tr>\n",
       "  </thead>\n",
       "  <tbody>\n",
       "    <tr>\n",
       "      <th>0</th>\n",
       "      <td>-0.160261</td>\n",
       "      <td>-1.182885</td>\n",
       "      <td>-0.550083</td>\n",
       "      <td>-4.156398e-07</td>\n",
       "      <td>-7.914660e-09</td>\n",
       "      <td>2.748724e-10</td>\n",
       "      <td>-3.341870e-10</td>\n",
       "      <td>-4.478361e-10</td>\n",
       "      <td>0.015750</td>\n",
       "      <td>-1.162458</td>\n",
       "      <td>...</td>\n",
       "      <td>-1.620256e-12</td>\n",
       "      <td>5.836535e-13</td>\n",
       "      <td>1.370309e-12</td>\n",
       "      <td>-4.513903e-13</td>\n",
       "      <td>-8.511947e-13</td>\n",
       "      <td>3.695317e-13</td>\n",
       "      <td>1.457763e-12</td>\n",
       "      <td>-1.372514e-12</td>\n",
       "      <td>-2.689637e-11</td>\n",
       "      <td>2.276580e-12</td>\n",
       "    </tr>\n",
       "    <tr>\n",
       "      <th>1</th>\n",
       "      <td>-0.145856</td>\n",
       "      <td>-1.180922</td>\n",
       "      <td>-0.550503</td>\n",
       "      <td>-4.156399e-07</td>\n",
       "      <td>-7.914661e-09</td>\n",
       "      <td>2.748724e-10</td>\n",
       "      <td>-3.341870e-10</td>\n",
       "      <td>-4.478362e-10</td>\n",
       "      <td>0.014381</td>\n",
       "      <td>-1.164725</td>\n",
       "      <td>...</td>\n",
       "      <td>-1.620368e-12</td>\n",
       "      <td>5.834845e-13</td>\n",
       "      <td>1.370584e-12</td>\n",
       "      <td>-4.518363e-13</td>\n",
       "      <td>-8.513545e-13</td>\n",
       "      <td>3.692294e-13</td>\n",
       "      <td>1.457965e-12</td>\n",
       "      <td>-1.372215e-12</td>\n",
       "      <td>-2.689571e-11</td>\n",
       "      <td>2.276725e-12</td>\n",
       "    </tr>\n",
       "    <tr>\n",
       "      <th>2</th>\n",
       "      <td>0.406774</td>\n",
       "      <td>-1.934732</td>\n",
       "      <td>-0.622302</td>\n",
       "      <td>-5.916145e-07</td>\n",
       "      <td>-1.126562e-08</td>\n",
       "      <td>3.912574e-10</td>\n",
       "      <td>-4.756922e-10</td>\n",
       "      <td>-6.374669e-10</td>\n",
       "      <td>-0.029898</td>\n",
       "      <td>-0.753670</td>\n",
       "      <td>...</td>\n",
       "      <td>1.266808e-13</td>\n",
       "      <td>-8.244438e-15</td>\n",
       "      <td>4.861930e-14</td>\n",
       "      <td>-6.815547e-14</td>\n",
       "      <td>-5.847214e-14</td>\n",
       "      <td>-5.371994e-14</td>\n",
       "      <td>1.978493e-15</td>\n",
       "      <td>-7.585098e-14</td>\n",
       "      <td>-2.800328e-14</td>\n",
       "      <td>2.052951e-14</td>\n",
       "    </tr>\n",
       "    <tr>\n",
       "      <th>3</th>\n",
       "      <td>-0.246677</td>\n",
       "      <td>1.406204</td>\n",
       "      <td>0.188435</td>\n",
       "      <td>2.214585e-07</td>\n",
       "      <td>4.217059e-09</td>\n",
       "      <td>-1.464605e-10</td>\n",
       "      <td>1.780717e-10</td>\n",
       "      <td>2.386245e-10</td>\n",
       "      <td>-0.011565</td>\n",
       "      <td>0.155303</td>\n",
       "      <td>...</td>\n",
       "      <td>1.448865e-14</td>\n",
       "      <td>-8.999251e-15</td>\n",
       "      <td>1.729787e-14</td>\n",
       "      <td>-9.616923e-15</td>\n",
       "      <td>-8.427045e-15</td>\n",
       "      <td>-3.681682e-15</td>\n",
       "      <td>3.712037e-15</td>\n",
       "      <td>-8.559564e-15</td>\n",
       "      <td>-2.142497e-14</td>\n",
       "      <td>-7.439344e-15</td>\n",
       "    </tr>\n",
       "    <tr>\n",
       "      <th>4</th>\n",
       "      <td>-0.318125</td>\n",
       "      <td>1.058161</td>\n",
       "      <td>-0.011589</td>\n",
       "      <td>1.120947e-07</td>\n",
       "      <td>2.134552e-09</td>\n",
       "      <td>-7.413783e-11</td>\n",
       "      <td>9.014487e-11</td>\n",
       "      <td>1.207944e-10</td>\n",
       "      <td>0.007188</td>\n",
       "      <td>-0.363163</td>\n",
       "      <td>...</td>\n",
       "      <td>-1.618034e-12</td>\n",
       "      <td>5.840145e-13</td>\n",
       "      <td>1.370651e-12</td>\n",
       "      <td>-4.534519e-13</td>\n",
       "      <td>-8.517732e-13</td>\n",
       "      <td>3.661816e-13</td>\n",
       "      <td>1.459518e-12</td>\n",
       "      <td>-1.373239e-12</td>\n",
       "      <td>-2.689615e-11</td>\n",
       "      <td>2.277277e-12</td>\n",
       "    </tr>\n",
       "  </tbody>\n",
       "</table>\n",
       "<p>5 rows × 80 columns</p>\n",
       "</div>"
      ],
      "text/plain": [
       "         0         1         2             3             4             5   \\\n",
       "0 -0.160261 -1.182885 -0.550083 -4.156398e-07 -7.914660e-09  2.748724e-10   \n",
       "1 -0.145856 -1.180922 -0.550503 -4.156399e-07 -7.914661e-09  2.748724e-10   \n",
       "2  0.406774 -1.934732 -0.622302 -5.916145e-07 -1.126562e-08  3.912574e-10   \n",
       "3 -0.246677  1.406204  0.188435  2.214585e-07  4.217059e-09 -1.464605e-10   \n",
       "4 -0.318125  1.058161 -0.011589  1.120947e-07  2.134552e-09 -7.413783e-11   \n",
       "\n",
       "             6             7         8         9   ...            70  \\\n",
       "0 -3.341870e-10 -4.478361e-10  0.015750 -1.162458  ... -1.620256e-12   \n",
       "1 -3.341870e-10 -4.478362e-10  0.014381 -1.164725  ... -1.620368e-12   \n",
       "2 -4.756922e-10 -6.374669e-10 -0.029898 -0.753670  ...  1.266808e-13   \n",
       "3  1.780717e-10  2.386245e-10 -0.011565  0.155303  ...  1.448865e-14   \n",
       "4  9.014487e-11  1.207944e-10  0.007188 -0.363163  ... -1.618034e-12   \n",
       "\n",
       "             71            72            73            74            75  \\\n",
       "0  5.836535e-13  1.370309e-12 -4.513903e-13 -8.511947e-13  3.695317e-13   \n",
       "1  5.834845e-13  1.370584e-12 -4.518363e-13 -8.513545e-13  3.692294e-13   \n",
       "2 -8.244438e-15  4.861930e-14 -6.815547e-14 -5.847214e-14 -5.371994e-14   \n",
       "3 -8.999251e-15  1.729787e-14 -9.616923e-15 -8.427045e-15 -3.681682e-15   \n",
       "4  5.840145e-13  1.370651e-12 -4.534519e-13 -8.517732e-13  3.661816e-13   \n",
       "\n",
       "             76            77            78            79  \n",
       "0  1.457763e-12 -1.372514e-12 -2.689637e-11  2.276580e-12  \n",
       "1  1.457965e-12 -1.372215e-12 -2.689571e-11  2.276725e-12  \n",
       "2  1.978493e-15 -7.585098e-14 -2.800328e-14  2.052951e-14  \n",
       "3  3.712037e-15 -8.559564e-15 -2.142497e-14 -7.439344e-15  \n",
       "4  1.459518e-12 -1.373239e-12 -2.689615e-11  2.277277e-12  \n",
       "\n",
       "[5 rows x 80 columns]"
      ]
     },
     "execution_count": 15,
     "metadata": {},
     "output_type": "execute_result"
    }
   ],
   "source": [
    "# transform PCA data into df\n",
    "pca_df = pd.DataFrame(data=crypto_pca)\n",
    "pca_df.head()"
   ]
  },
  {
   "cell_type": "code",
   "execution_count": 16,
   "id": "bb435de2",
   "metadata": {},
   "outputs": [
    {
     "data": {
      "text/plain": [
       "array([0.02152743, 0.02009212, 0.01913484, 0.01907757, 0.01907757,\n",
       "       0.01907757, 0.01907757, 0.01907757, 0.01904019, 0.01699986,\n",
       "       0.01628465, 0.0152066 , 0.01509449, 0.01489954, 0.01450315,\n",
       "       0.01330357, 0.01188322, 0.01184387, 0.01126097, 0.01102736,\n",
       "       0.01032707, 0.00980719, 0.00976109, 0.00971429, 0.0096818 ,\n",
       "       0.00966213, 0.00964211, 0.00960745, 0.00959743, 0.00958471,\n",
       "       0.00958399, 0.00958399, 0.00958333, 0.00957795, 0.00957446,\n",
       "       0.00956887, 0.00956887, 0.00956887, 0.00956887, 0.00956332,\n",
       "       0.00956018, 0.00955826, 0.00955726, 0.00955386, 0.00955381,\n",
       "       0.00955305, 0.00955246, 0.00955039, 0.00954555, 0.00953878,\n",
       "       0.00953878, 0.00953878, 0.00953878, 0.00953878, 0.00953878,\n",
       "       0.00953878, 0.00953878, 0.00953878, 0.00953878, 0.00953878,\n",
       "       0.00953878, 0.00953878, 0.00953878, 0.00953878, 0.00953878,\n",
       "       0.00953878, 0.00953878, 0.00953878, 0.00953878, 0.00953878,\n",
       "       0.00953878, 0.00953878, 0.00953878, 0.00953878, 0.00953878,\n",
       "       0.00953878, 0.00953878, 0.00953878, 0.00953878, 0.00953878])"
      ]
     },
     "execution_count": 16,
     "metadata": {},
     "output_type": "execute_result"
    }
   ],
   "source": [
    "# fetch explained variance\n",
    "pca.explained_variance_ratio_"
   ]
  },
  {
   "cell_type": "code",
   "execution_count": 17,
   "id": "d37bb807",
   "metadata": {},
   "outputs": [
    {
     "name": "stdout",
     "output_type": "stream",
     "text": [
      "Sum: 0.9023046301654124\n"
     ]
    }
   ],
   "source": [
    "# expected sum is 0.90\n",
    "arr = pca.explained_variance_ratio_\n",
    "arr_sum = 0\n",
    "for i in range(0, len(arr)):\n",
    "    arr_sum = arr_sum + arr[i]\n",
    "    \n",
    "print(f\"Sum: {arr_sum}\")"
   ]
  },
  {
   "cell_type": "markdown",
   "id": "ff66a61c",
   "metadata": {},
   "source": [
    "with 80 principal components, we've preserved approx. 90% of the explained variance"
   ]
  },
  {
   "cell_type": "markdown",
   "id": "63f468db",
   "metadata": {},
   "source": [
    "### further reduce dataset dimensions with t-SNE"
   ]
  },
  {
   "cell_type": "code",
   "execution_count": 18,
   "id": "9b7cbfa1",
   "metadata": {},
   "outputs": [],
   "source": [
    "# initialize t-SNE model\n",
    "tsne = TSNE(learning_rate=35)"
   ]
  },
  {
   "cell_type": "code",
   "execution_count": 19,
   "id": "b0f4d6cb",
   "metadata": {},
   "outputs": [
    {
     "name": "stderr",
     "output_type": "stream",
     "text": [
      "/Users/dan/opt/anaconda3/envs/PythonData/lib/python3.9/site-packages/sklearn/manifold/_t_sne.py:780: FutureWarning: The default initialization in TSNE will change from 'random' to 'pca' in 1.2.\n",
      "  warnings.warn(\n"
     ]
    },
    {
     "data": {
      "text/plain": [
       "(637, 2)"
      ]
     },
     "execution_count": 19,
     "metadata": {},
     "output_type": "execute_result"
    }
   ],
   "source": [
    "# run t-SNE on principal components (in our case, pca_df)\n",
    "tsne_features = tsne.fit_transform(pca_df)\n",
    "tsne_features.shape"
   ]
  },
  {
   "cell_type": "code",
   "execution_count": 20,
   "id": "02a2b621",
   "metadata": {},
   "outputs": [],
   "source": [
    "# prepare to plot t-SNE output\n",
    "# first column of transformed features\n",
    "x = tsne_features[:,0]\n",
    "\n",
    "# second column of transformed features\n",
    "y = tsne_features[:,1]"
   ]
  },
  {
   "cell_type": "code",
   "execution_count": 21,
   "id": "e962f649",
   "metadata": {},
   "outputs": [
    {
     "data": {
      "image/png": "[encoded data removed]",
      "text/plain": [
       "<Figure size 432x288 with 1 Axes>"
      ]
     },
     "metadata": {
      "needs_background": "light"
     },
     "output_type": "display_data"
    }
   ],
   "source": [
    "# plot results\n",
    "plt.scatter(x, y)\n",
    "plt.show()"
   ]
  },
  {
   "cell_type": "code",
   "execution_count": 22,
   "id": "c861b734",
   "metadata": {},
   "outputs": [
    {
     "data": {
      "image/png": "[encoded data removed]",
      "text/plain": [
       "<Figure size 432x288 with 1 Axes>"
      ]
     },
     "metadata": {
      "needs_background": "light"
     },
     "output_type": "display_data"
    }
   ],
   "source": [
    "# visualize clusters in color\n",
    "plt.scatter(x, y, c=labels.index)\n",
    "plt.show()"
   ]
  },
  {
   "cell_type": "markdown",
   "id": "2f41fb79",
   "metadata": {},
   "source": [
    "## Cluster Analysis with k-Means"
   ]
  },
  {
   "cell_type": "code",
   "execution_count": 24,
   "id": "1ab7429b",
   "metadata": {},
   "outputs": [
    {
     "data": {
      "image/png": "[encoded data removed]",
      "text/plain": [
       "<Figure size 432x288 with 1 Axes>"
      ]
     },
     "metadata": {
      "needs_background": "light"
     },
     "output_type": "display_data"
    }
   ],
   "source": [
    "inertia = []\n",
    "k = list(range(1, 11))\n",
    "\n",
    "# find best value for k\n",
    "for i in k:\n",
    "    km = KMeans(n_clusters=i, random_state=42)\n",
    "    km.fit(pca_df)\n",
    "    inertia.append(km.inertia_)\n",
    "\n",
    "# plot elbow curve\n",
    "elbow_data = {\"k\": k, \"inertia\": inertia}\n",
    "df_elbow = pd.DataFrame(elbow_data)\n",
    "\n",
    "plt.plot(df_elbow['k'], df_elbow['inertia'])\n",
    "plt.xticks(range(1,11))\n",
    "plt.xlabel('Number of clusters')\n",
    "plt.ylabel('Inertia')\n",
    "plt.show()"
   ]
  },
  {
   "cell_type": "markdown",
   "id": "cce29fc8",
   "metadata": {},
   "source": [
    "based on the lack of elbow in our graph and not finding any distinct clusters in our previous visualization, I would recommend that the cryptocurrencies not be clustered together"
   ]
  },
  {
   "cell_type": "code",
   "execution_count": null,
   "id": "48d86650",
   "metadata": {},
   "outputs": [],
   "source": []
  }
 ],
 "metadata": {
  "kernelspec": {
   "display_name": "Python 3 (ipykernel)",
   "language": "python",
   "name": "python3"
  },
  "language_info": {
   "codemirror_mode": {
    "name": "ipython",
    "version": 3
   },
   "file_extension": ".py",
   "mimetype": "text/x-python",
   "name": "python",
   "nbconvert_exporter": "python",
   "pygments_lexer": "ipython3",
   "version": "3.9.7"
  }
 },
 "nbformat": 4,
 "nbformat_minor": 5
}
